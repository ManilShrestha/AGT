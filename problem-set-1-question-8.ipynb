{
 "cells": [
  {
   "cell_type": "code",
   "execution_count": 170,
   "id": "aeee5f2f",
   "metadata": {},
   "outputs": [],
   "source": [
    "import numpy as np\n",
    "import random\n",
    "import itertools\n",
    "import time"
   ]
  },
  {
   "cell_type": "code",
   "execution_count": 171,
   "id": "1a5007d9",
   "metadata": {},
   "outputs": [],
   "source": [
    "mList = [i for i in range(0, m+1)]"
   ]
  },
  {
   "cell_type": "code",
   "execution_count": 172,
   "id": "afbd6f34",
   "metadata": {},
   "outputs": [],
   "source": [
    "from itertools import product\n",
    "\n",
    "def getFeasibleSet(n, m):\n",
    "    returnArr = []\n",
    "    mList = [i for i in range(0, m+1)]\n",
    "\n",
    "    feasibleSet = list(product(mList, repeat=n))\n",
    "    tupleToRemove = []\n",
    "\n",
    "    for idx, f in enumerate(feasibleSet):\n",
    "        sumTuple = 0\n",
    "\n",
    "        for tup in f:\n",
    "            sumTuple += tup    \n",
    "        if sumTuple > m:\n",
    "            tupleToRemove.append(f)\n",
    "    \n",
    "    # Removing tuples whose sum exceeds total m items\n",
    "    for tR in tupleToRemove:\n",
    "        feasibleSet.remove(tR)\n",
    "        \n",
    "    for f in feasibleSet:\n",
    "        returnArr.append(list(f))\n",
    "\n",
    "    return returnArr\n",
    "# getFeasibleSet(2,4)"
   ]
  },
  {
   "cell_type": "code",
   "execution_count": 173,
   "id": "daf91a1a",
   "metadata": {
    "scrolled": true
   },
   "outputs": [],
   "source": [
    "def getFeasibleSetExcludingOne(n, m, excludeAgent):\n",
    "    returnArr = []\n",
    "    mList = [i for i in range(0, m+1)]\n",
    "\n",
    "    feasibleSet = list(product(mList, repeat=n))\n",
    "    tupleToRemove = []\n",
    "\n",
    "    for idx, f in enumerate(feasibleSet):\n",
    "        sumTuple = 0\n",
    "        for tup in f:\n",
    "            sumTuple += tup    \n",
    "        if sumTuple > m:\n",
    "            tupleToRemove.append(f)\n",
    "    \n",
    "    # Removing tuples whose sum exceeds total m items\n",
    "    for tR in tupleToRemove:\n",
    "        feasibleSet.remove(tR)\n",
    "        \n",
    "    for f in feasibleSet:\n",
    "        listF = list(f)\n",
    "        listF[excludeAgent]=0\n",
    "        returnArr.append(listF)\n",
    "    \n",
    "\n",
    "    returnArr.sort()\n",
    "\n",
    "    return list(k for k,_ in itertools.groupby(returnArr))\n",
    "# getFeasibleSetExcludingOne(4,6,0)"
   ]
  },
  {
   "cell_type": "code",
   "execution_count": 139,
   "id": "59a306ee",
   "metadata": {},
   "outputs": [],
   "source": [
    "# Randomized valuation for each agent and each bundle\n",
    "def getValuationFeasibleSet(n,m):\n",
    "    feasibleSet = getFeasibleSet(n,m)\n",
    "\n",
    "    valuationArr = np.zeros((n,m+1))\n",
    "\n",
    "    # Rows are for each agent, column for each bundle 0...k\n",
    "    for i in range(n):\n",
    "        for j in range(m+1):\n",
    "            rand = random.uniform(0, 1)\n",
    "            valuationArr[i, j] = j * rand\n",
    "\n",
    "    return valuationArr"
   ]
  },
  {
   "cell_type": "code",
   "execution_count": 140,
   "id": "9cc6ea3f",
   "metadata": {},
   "outputs": [],
   "source": [
    "def getMaxWelfare(feasibleSet, valuationArr, n, m):\n",
    "    welfareDict = {}\n",
    "    for setF in feasibleSet:\n",
    "        welfareDict[tuple(setF)] = 0\n",
    "        for idx, val in enumerate(setF):\n",
    "            welfareDict[tuple(setF)] += valuationArr[idx, val]\n",
    "\n",
    "    allocationMaxWelfare = max(welfareDict, key=welfareDict.get)\n",
    "\n",
    "    return allocationMaxWelfare, welfareDict"
   ]
  },
  {
   "cell_type": "code",
   "execution_count": 175,
   "id": "f61c9c17",
   "metadata": {},
   "outputs": [],
   "source": [
    "# To get the payment value, first calculate the maximum welfare by excluding the agent (M)\n",
    "# Get welfare contribution of other agents minus the selected agent when there is global maximum welfare (R)\n",
    "# Payment = M - R\n",
    "def VCGAuction(n,m):\n",
    "    fS = getFeasibleSet(n,m)\n",
    "    valuationArr = getValuationFeasibleSet(n,m)\n",
    "#     print(\"Valuation generated: \\n\", valuationArr)\n",
    "    allocationMaxWelfare, welfareDict = getMaxWelfare(fS, valuationArr, n, m)\n",
    "\n",
    "#     print(\"\\nAllocation with max welfare:\", allocationMaxWelfare, \"\\nWelfare value: \", welfareDict[allocationMaxWelfare],\"\\n\")\n",
    "\n",
    "    for agent, agentVal in enumerate(allocationMaxWelfare):\n",
    "        fsExc = getFeasibleSetExcludingOne(n, m, agent)\n",
    "        # Max social welfare excluding the agent\n",
    "        allocationMaxWelfareExc, welfareDictExc = getMaxWelfare(fsExc, valuationArr, n, m)\n",
    "        M = welfareDictExc[allocationMaxWelfareExc]    \n",
    "\n",
    "        # Social welfare removing the agent\n",
    "        value = 0\n",
    "        for idx, a in enumerate(allocationMaxWelfare):\n",
    "            if idx==agent:\n",
    "                continue\n",
    "            else:\n",
    "                value += valuationArr[idx, a]\n",
    "\n",
    "#         print(\"Payment for agent\", agent, M - value)\n"
   ]
  },
  {
   "cell_type": "code",
   "execution_count": 176,
   "id": "5a458ac9",
   "metadata": {},
   "outputs": [],
   "source": [
    "VCGAuction(6,4)"
   ]
  },
  {
   "cell_type": "code",
   "execution_count": 179,
   "id": "1be5db8b",
   "metadata": {},
   "outputs": [
    {
     "name": "stdout",
     "output_type": "stream",
     "text": [
      "Time required for the combination (n,m) = (2, 4)--- 0.0002422332763671875 seconds ---\n",
      "Time required for the combination (n,m) = (2, 6)--- 0.00036978721618652344 seconds ---\n",
      "Time required for the combination (n,m) = (2, 8)--- 0.0006008148193359375 seconds ---\n",
      "Time required for the combination (n,m) = (2, 10)--- 0.001977205276489258 seconds ---\n",
      "Time required for the combination (n,m) = (2, 12)--- 0.009305238723754883 seconds ---\n",
      "Time required for the combination (n,m) = (2, 14)--- 0.0028028488159179688 seconds ---\n",
      "Time required for the combination (n,m) = (2, 16)--- 0.00316619873046875 seconds ---\n",
      "Time required for the combination (n,m) = (2, 18)--- 0.0031218528747558594 seconds ---\n",
      "Time required for the combination (n,m) = (2, 20)--- 0.0054819583892822266 seconds ---\n",
      "Time required for the combination (n,m) = (4, 4)--- 0.006950855255126953 seconds ---\n",
      "Time required for the combination (n,m) = (4, 6)--- 0.055832624435424805 seconds ---\n",
      "Time required for the combination (n,m) = (4, 8)--- 0.30890607833862305 seconds ---\n",
      "Time required for the combination (n,m) = (4, 10)--- 1.3735899925231934 seconds ---\n",
      "Time required for the combination (n,m) = (4, 12)--- 4.880984783172607 seconds ---\n",
      "Time required for the combination (n,m) = (4, 14)--- 14.447634935379028 seconds ---\n",
      "Time required for the combination (n,m) = (4, 16)--- 37.712947845458984 seconds ---\n",
      "Time required for the combination (n,m) = (4, 18)--- 89.88791728019714 seconds ---\n",
      "Time required for the combination (n,m) = (4, 20)--- 194.18372106552124 seconds ---\n",
      "Time required for the combination (n,m) = (5, 4)--- 0.05698394775390625 seconds ---\n",
      "Time required for the combination (n,m) = (5, 6)--- 1.0365440845489502 seconds ---\n",
      "Time required for the combination (n,m) = (5, 8)--- 10.535056829452515 seconds ---\n",
      "Time required for the combination (n,m) = (5, 10)--- 68.80651211738586 seconds ---\n",
      "Time required for the combination (n,m) = (5, 12)--- 3304.5354681015015 seconds ---\n"
     ]
    },
    {
     "ename": "KeyboardInterrupt",
     "evalue": "",
     "output_type": "error",
     "traceback": [
      "\u001b[0;31m---------------------------------------------------------------------------\u001b[0m",
      "\u001b[0;31mKeyboardInterrupt\u001b[0m                         Traceback (most recent call last)",
      "Input \u001b[0;32mIn [179]\u001b[0m, in \u001b[0;36m<cell line: 4>\u001b[0;34m()\u001b[0m\n\u001b[1;32m      5\u001b[0m \u001b[38;5;28;01mfor\u001b[39;00m m \u001b[38;5;129;01min\u001b[39;00m mList:\n\u001b[1;32m      6\u001b[0m     start_time \u001b[38;5;241m=\u001b[39m time\u001b[38;5;241m.\u001b[39mtime()\n\u001b[0;32m----> 7\u001b[0m     \u001b[43mVCGAuction\u001b[49m\u001b[43m(\u001b[49m\u001b[43mn\u001b[49m\u001b[43m,\u001b[49m\u001b[43mm\u001b[49m\u001b[43m)\u001b[49m\n\u001b[1;32m      8\u001b[0m     \u001b[38;5;28mprint\u001b[39m(\u001b[38;5;124m\"\u001b[39m\u001b[38;5;124mTime required for the combination (n,m) = (\u001b[39m\u001b[38;5;132;01m%d\u001b[39;00m\u001b[38;5;124m, \u001b[39m\u001b[38;5;132;01m%d\u001b[39;00m\u001b[38;5;124m)--- \u001b[39m\u001b[38;5;132;01m%s\u001b[39;00m\u001b[38;5;124m seconds ---\u001b[39m\u001b[38;5;124m\"\u001b[39m \u001b[38;5;241m%\u001b[39m (n, m, time\u001b[38;5;241m.\u001b[39mtime() \u001b[38;5;241m-\u001b[39m start_time))\n",
      "Input \u001b[0;32mIn [175]\u001b[0m, in \u001b[0;36mVCGAuction\u001b[0;34m(n, m)\u001b[0m\n\u001b[1;32m     10\u001b[0m \u001b[38;5;66;03m#     print(\"\\nAllocation with max welfare:\", allocationMaxWelfare, \"\\nWelfare value: \", welfareDict[allocationMaxWelfare],\"\\n\")\u001b[39;00m\n\u001b[1;32m     12\u001b[0m     \u001b[38;5;28;01mfor\u001b[39;00m agent, agentVal \u001b[38;5;129;01min\u001b[39;00m \u001b[38;5;28menumerate\u001b[39m(allocationMaxWelfare):\n\u001b[0;32m---> 13\u001b[0m         fsExc \u001b[38;5;241m=\u001b[39m \u001b[43mgetFeasibleSetExcludingOne\u001b[49m\u001b[43m(\u001b[49m\u001b[43mn\u001b[49m\u001b[43m,\u001b[49m\u001b[43m \u001b[49m\u001b[43mm\u001b[49m\u001b[43m,\u001b[49m\u001b[43m \u001b[49m\u001b[43magent\u001b[49m\u001b[43m)\u001b[49m\n\u001b[1;32m     14\u001b[0m         \u001b[38;5;66;03m# Max social welfare excluding the agent\u001b[39;00m\n\u001b[1;32m     15\u001b[0m         allocationMaxWelfareExc, welfareDictExc \u001b[38;5;241m=\u001b[39m getMaxWelfare(fsExc, valuationArr, n, m)\n",
      "Input \u001b[0;32mIn [173]\u001b[0m, in \u001b[0;36mgetFeasibleSetExcludingOne\u001b[0;34m(n, m, excludeAgent)\u001b[0m\n\u001b[1;32m     15\u001b[0m \u001b[38;5;66;03m# Removing tuples whose sum exceeds total m items\u001b[39;00m\n\u001b[1;32m     16\u001b[0m \u001b[38;5;28;01mfor\u001b[39;00m tR \u001b[38;5;129;01min\u001b[39;00m tupleToRemove:\n\u001b[0;32m---> 17\u001b[0m     \u001b[43mfeasibleSet\u001b[49m\u001b[38;5;241;43m.\u001b[39;49m\u001b[43mremove\u001b[49m\u001b[43m(\u001b[49m\u001b[43mtR\u001b[49m\u001b[43m)\u001b[49m\n\u001b[1;32m     19\u001b[0m \u001b[38;5;28;01mfor\u001b[39;00m f \u001b[38;5;129;01min\u001b[39;00m feasibleSet:\n\u001b[1;32m     20\u001b[0m     listF \u001b[38;5;241m=\u001b[39m \u001b[38;5;28mlist\u001b[39m(f)\n",
      "\u001b[0;31mKeyboardInterrupt\u001b[0m: "
     ]
    }
   ],
   "source": [
    "nList = [2,4,5,6]\n",
    "mList = [4,6,8,10,12,14,16,18,20]\n",
    "\n",
    "for n in nList:\n",
    "    for m in mList:\n",
    "        start_time = time.time()\n",
    "        VCGAuction(n,m)\n",
    "        print(\"Time required for the combination (n,m) = (%d, %d)--- %s seconds ---\" % (n, m, time.time() - start_time))"
   ]
  },
  {
   "cell_type": "code",
   "execution_count": 180,
   "id": "9761050a",
   "metadata": {},
   "outputs": [
    {
     "name": "stdout",
     "output_type": "stream",
     "text": [
      "Time required for the combination (n,m) = (6, 4)--- 0.6371669769287109 seconds ---\n",
      "Time required for the combination (n,m) = (6, 6)--- 25.193945169448853 seconds ---\n",
      "Time required for the combination (n,m) = (6, 8)--- 438.9295129776001 seconds ---\n",
      "Time required for the combination (n,m) = (6, 10)--- 19100.39142012596 seconds ---\n"
     ]
    },
    {
     "ename": "KeyboardInterrupt",
     "evalue": "",
     "output_type": "error",
     "traceback": [
      "\u001b[0;31m---------------------------------------------------------------------------\u001b[0m",
      "\u001b[0;31mKeyboardInterrupt\u001b[0m                         Traceback (most recent call last)",
      "Input \u001b[0;32mIn [180]\u001b[0m, in \u001b[0;36m<cell line: 4>\u001b[0;34m()\u001b[0m\n\u001b[1;32m      5\u001b[0m \u001b[38;5;28;01mfor\u001b[39;00m n \u001b[38;5;129;01min\u001b[39;00m nList:\n\u001b[1;32m      6\u001b[0m     start_time \u001b[38;5;241m=\u001b[39m time\u001b[38;5;241m.\u001b[39mtime()\n\u001b[0;32m----> 7\u001b[0m     \u001b[43mVCGAuction\u001b[49m\u001b[43m(\u001b[49m\u001b[43mn\u001b[49m\u001b[43m,\u001b[49m\u001b[43mm\u001b[49m\u001b[43m)\u001b[49m\n\u001b[1;32m      8\u001b[0m     \u001b[38;5;28mprint\u001b[39m(\u001b[38;5;124m\"\u001b[39m\u001b[38;5;124mTime required for the combination (n,m) = (\u001b[39m\u001b[38;5;132;01m%d\u001b[39;00m\u001b[38;5;124m, \u001b[39m\u001b[38;5;132;01m%d\u001b[39;00m\u001b[38;5;124m)--- \u001b[39m\u001b[38;5;132;01m%s\u001b[39;00m\u001b[38;5;124m seconds ---\u001b[39m\u001b[38;5;124m\"\u001b[39m \u001b[38;5;241m%\u001b[39m (n, m, time\u001b[38;5;241m.\u001b[39mtime() \u001b[38;5;241m-\u001b[39m start_time))\n",
      "Input \u001b[0;32mIn [175]\u001b[0m, in \u001b[0;36mVCGAuction\u001b[0;34m(n, m)\u001b[0m\n\u001b[1;32m      4\u001b[0m \u001b[38;5;28;01mdef\u001b[39;00m \u001b[38;5;21mVCGAuction\u001b[39m(n,m):\n\u001b[1;32m      5\u001b[0m     fS \u001b[38;5;241m=\u001b[39m getFeasibleSet(n,m)\n\u001b[0;32m----> 6\u001b[0m     valuationArr \u001b[38;5;241m=\u001b[39m \u001b[43mgetValuationFeasibleSet\u001b[49m\u001b[43m(\u001b[49m\u001b[43mn\u001b[49m\u001b[43m,\u001b[49m\u001b[43mm\u001b[49m\u001b[43m)\u001b[49m\n\u001b[1;32m      7\u001b[0m \u001b[38;5;66;03m#     print(\"Valuation generated: \\n\", valuationArr)\u001b[39;00m\n\u001b[1;32m      8\u001b[0m     allocationMaxWelfare, welfareDict \u001b[38;5;241m=\u001b[39m getMaxWelfare(fS, valuationArr, n, m)\n",
      "Input \u001b[0;32mIn [139]\u001b[0m, in \u001b[0;36mgetValuationFeasibleSet\u001b[0;34m(n, m)\u001b[0m\n\u001b[1;32m      2\u001b[0m \u001b[38;5;28;01mdef\u001b[39;00m \u001b[38;5;21mgetValuationFeasibleSet\u001b[39m(n,m):\n\u001b[0;32m----> 3\u001b[0m     feasibleSet \u001b[38;5;241m=\u001b[39m \u001b[43mgetFeasibleSet\u001b[49m\u001b[43m(\u001b[49m\u001b[43mn\u001b[49m\u001b[43m,\u001b[49m\u001b[43mm\u001b[49m\u001b[43m)\u001b[49m\n\u001b[1;32m      5\u001b[0m     valuationArr \u001b[38;5;241m=\u001b[39m np\u001b[38;5;241m.\u001b[39mzeros((n,m\u001b[38;5;241m+\u001b[39m\u001b[38;5;241m1\u001b[39m))\n\u001b[1;32m      7\u001b[0m     \u001b[38;5;66;03m# Rows are for each agent, column for each bundle 0...k\u001b[39;00m\n",
      "Input \u001b[0;32mIn [172]\u001b[0m, in \u001b[0;36mgetFeasibleSet\u001b[0;34m(n, m)\u001b[0m\n\u001b[1;32m     18\u001b[0m \u001b[38;5;66;03m# Removing tuples whose sum exceeds total m items\u001b[39;00m\n\u001b[1;32m     19\u001b[0m \u001b[38;5;28;01mfor\u001b[39;00m tR \u001b[38;5;129;01min\u001b[39;00m tupleToRemove:\n\u001b[0;32m---> 20\u001b[0m     \u001b[43mfeasibleSet\u001b[49m\u001b[38;5;241;43m.\u001b[39;49m\u001b[43mremove\u001b[49m\u001b[43m(\u001b[49m\u001b[43mtR\u001b[49m\u001b[43m)\u001b[49m\n\u001b[1;32m     22\u001b[0m \u001b[38;5;28;01mfor\u001b[39;00m f \u001b[38;5;129;01min\u001b[39;00m feasibleSet:\n\u001b[1;32m     23\u001b[0m     returnArr\u001b[38;5;241m.\u001b[39mappend(\u001b[38;5;28mlist\u001b[39m(f))\n",
      "\u001b[0;31mKeyboardInterrupt\u001b[0m: "
     ]
    }
   ],
   "source": [
    "nList = [6]\n",
    "mList = [4,6,8,10,12,14,16,18,20]\n",
    "\n",
    "for m in mList:\n",
    "    for n in nList:\n",
    "        start_time = time.time()\n",
    "        VCGAuction(n,m)\n",
    "        print(\"Time required for the combination (n,m) = (%d, %d)--- %s seconds ---\" % (n, m, time.time() - start_time))"
   ]
  },
  {
   "cell_type": "code",
   "execution_count": null,
   "id": "77a254f4",
   "metadata": {},
   "outputs": [],
   "source": [
    "nList = [6]\n",
    "mList = [12,14,16,18,20]\n",
    "\n",
    "for m in mList:\n",
    "    for n in nList:\n",
    "        start_time = time.time()\n",
    "        VCGAuction(n,m)\n",
    "        print(\"Time required for the combination (n,m) = (%d, %d)--- %s seconds ---\" % (n, m, time.time() - start_time))"
   ]
  },
  {
   "cell_type": "code",
   "execution_count": null,
   "id": "93b8e65a",
   "metadata": {},
   "outputs": [],
   "source": []
  }
 ],
 "metadata": {
  "kernelspec": {
   "display_name": "Python 3 (ipykernel)",
   "language": "python",
   "name": "python3"
  },
  "language_info": {
   "codemirror_mode": {
    "name": "ipython",
    "version": 3
   },
   "file_extension": ".py",
   "mimetype": "text/x-python",
   "name": "python",
   "nbconvert_exporter": "python",
   "pygments_lexer": "ipython3",
   "version": "3.8.13"
  }
 },
 "nbformat": 4,
 "nbformat_minor": 5
}
