{
 "cells": [
  {
   "cell_type": "markdown",
   "id": "0448627b",
   "metadata": {},
   "source": [
    "## VCG auction"
   ]
  },
  {
   "cell_type": "code",
   "execution_count": 1,
   "id": "82c9a639",
   "metadata": {},
   "outputs": [],
   "source": [
    "import numpy as np"
   ]
  },
  {
   "cell_type": "code",
   "execution_count": 152,
   "id": "a1cf0bef",
   "metadata": {
    "scrolled": true
   },
   "outputs": [
    {
     "data": {
      "text/plain": [
       "[set(),\n",
       " {1},\n",
       " {2},\n",
       " {3},\n",
       " {4},\n",
       " {1, 2},\n",
       " {1, 3},\n",
       " {1, 4},\n",
       " {2, 3},\n",
       " {2, 4},\n",
       " {3, 4},\n",
       " {1, 2, 3},\n",
       " {1, 2, 4},\n",
       " {1, 3, 4},\n",
       " {2, 3, 4},\n",
       " {1, 2, 3, 4}]"
      ]
     },
     "execution_count": 152,
     "metadata": {},
     "output_type": "execute_result"
    }
   ],
   "source": [
    "import itertools\n",
    "\n",
    "s = {1, 2, 3, 4}\n",
    "subsets = []\n",
    "for i in range(len(s) + 1):\n",
    "    for subset in itertools.combinations(s, i):\n",
    "        subsets.append(set(subset))\n",
    "subsets"
   ]
  },
  {
   "cell_type": "code",
   "execution_count": 145,
   "id": "3939d516",
   "metadata": {},
   "outputs": [],
   "source": [
    "valueSpace = np.zeros((4,16))"
   ]
  },
  {
   "cell_type": "code",
   "execution_count": 146,
   "id": "10a5f046",
   "metadata": {},
   "outputs": [],
   "source": [
    "valueSpace[:,subsets.index({1})] = 1\n",
    "\n",
    "valueSpace[0,subsets.index({2})] = 2\n",
    "valueSpace[0,subsets.index({3})] = 2\n",
    "valueSpace[0,subsets.index({4})] = 4\n",
    "valueSpace[0,subsets.index({1,2,3,4})] = 11\n",
    "valueSpace[0, np.where(valueSpace[0] == 0)] = 5\n",
    "\n",
    "valueSpace[1,subsets.index({2})] = 1\n",
    "valueSpace[1,subsets.index({3})] = 1\n",
    "valueSpace[1,subsets.index({4})] = 1\n",
    "valueSpace[1,subsets.index({1,2})] = 5\n",
    "valueSpace[1, np.where(valueSpace[1] == 0)] = 4\n",
    "\n",
    "valueSpace[2,subsets.index({2})] = 2\n",
    "valueSpace[2,subsets.index({3})] = 4\n",
    "valueSpace[2,subsets.index({4})] = 1\n",
    "valueSpace[2,subsets.index({2,3})] = 7\n",
    "valueSpace[2, np.where(valueSpace[2] == 0)] = 3\n",
    "\n",
    "\n",
    "valueSpace[3,subsets.index({2})] = 1\n",
    "valueSpace[3,subsets.index({3})] = 1\n",
    "valueSpace[3,subsets.index({4})] = 3\n",
    "valueSpace[3, np.where(valueSpace[3] == 0)] = 3\n",
    "\n",
    "# All first index are zero\n",
    "valueSpace[:,subsets.index(set())] = 0"
   ]
  },
  {
   "cell_type": "code",
   "execution_count": 147,
   "id": "3c272987",
   "metadata": {},
   "outputs": [
    {
     "data": {
      "text/plain": [
       "(13.0, [{4}, {1, 2}, {3}, set()])"
      ]
     },
     "execution_count": 147,
     "metadata": {},
     "output_type": "execute_result"
    }
   ],
   "source": [
    "def isDisjoint(sets):\n",
    "    for i in range(len(sets)):\n",
    "        for j in range(i+1, len(sets)):\n",
    "            if not sets[i].isdisjoint(sets[j]):\n",
    "                return False\n",
    "    return True\n",
    "\n",
    "def getHighestWelfare(valueSpace):\n",
    "    arr = []\n",
    "    loops = valueSpace.shape[0] * valueSpace.shape[1]\n",
    "    \n",
    "    for i in range(0,16):\n",
    "        for j in range(0,16):\n",
    "            for k in range(0,16):\n",
    "                for l in range(0,16):\n",
    "                    s = valueSpace[0,i] + valueSpace[1,j] + valueSpace[2,k] + valueSpace[3,l]\n",
    "                    superset = [subsets[i], subsets[j], subsets[k], subsets[l]]\n",
    "                    if isDisjoint(superset):\n",
    "                        arr.append((s, superset))\n",
    "    \n",
    "    sorted_arr = sorted(arr, key=lambda x: x[0])\n",
    "    return sorted_arr[-1]\n",
    "\n",
    "allocationWithHighestPayment = getHighestWelfare(valueSpace)\n",
    "allocationWithHighestPayment\n"
   ]
  },
  {
   "cell_type": "code",
   "execution_count": 148,
   "id": "4cb68e92",
   "metadata": {},
   "outputs": [],
   "source": [
    "def getHighestWelfareExclusion(valueSpace):\n",
    "    arr = []\n",
    "    loops = valueSpace.shape[0] * valueSpace.shape[1]\n",
    "    \n",
    "    for i in range(0,16):\n",
    "        for j in range(0,16):\n",
    "            for k in range(0,16):\n",
    "                s = valueSpace[0,i] + valueSpace[1,j] + valueSpace[2,k]\n",
    "                superset = [subsets[i], subsets[j], subsets[k]]\n",
    "                if isDisjoint(superset):\n",
    "                    arr.append((s, superset))\n",
    "    \n",
    "    sorted_arr = sorted(arr, key=lambda x: x[0])\n",
    "    return sorted_arr[-1]"
   ]
  },
  {
   "cell_type": "code",
   "execution_count": 149,
   "id": "3ffc938b",
   "metadata": {},
   "outputs": [
    {
     "data": {
      "text/plain": [
       "(12.0, [{1, 2}, {3}, {4}])"
      ]
     },
     "execution_count": 149,
     "metadata": {},
     "output_type": "execute_result"
    }
   ],
   "source": [
    "# Get maximum welfare excluding agent 1\n",
    "valueSpaceExclude1 = valueSpace[1:]\n",
    "getHighestWelfareExclusion(valueSpaceExclude1)"
   ]
  },
  {
   "cell_type": "code",
   "execution_count": 150,
   "id": "2448f709",
   "metadata": {},
   "outputs": [
    {
     "data": {
      "text/plain": [
       "(12.0, [{1, 4}, {2, 3}, set()])"
      ]
     },
     "execution_count": 150,
     "metadata": {},
     "output_type": "execute_result"
    }
   ],
   "source": [
    "# Get maximum welfare excluding agent 2\n",
    "valueSpaceExclude2 = np.delete(valueSpace, 1, 0)\n",
    "getHighestWelfareExclusion(valueSpaceExclude2)"
   ]
  },
  {
   "cell_type": "code",
   "execution_count": 151,
   "id": "09ac1e60",
   "metadata": {},
   "outputs": [
    {
     "data": {
      "text/plain": [
       "(11.0, [{1, 2, 3, 4}, set(), set()])"
      ]
     },
     "execution_count": 151,
     "metadata": {},
     "output_type": "execute_result"
    }
   ],
   "source": [
    "# Get maximum welfare excluding agent 2\n",
    "valueSpaceExclude2 = np.delete(valueSpace, 2, 0)\n",
    "getHighestWelfareExclusion(valueSpaceExclude2)"
   ]
  },
  {
   "cell_type": "code",
   "execution_count": null,
   "id": "1a0cd296",
   "metadata": {},
   "outputs": [],
   "source": []
  }
 ],
 "metadata": {
  "kernelspec": {
   "display_name": "Python 3 (ipykernel)",
   "language": "python",
   "name": "python3"
  },
  "language_info": {
   "codemirror_mode": {
    "name": "ipython",
    "version": 3
   },
   "file_extension": ".py",
   "mimetype": "text/x-python",
   "name": "python",
   "nbconvert_exporter": "python",
   "pygments_lexer": "ipython3",
   "version": "3.8.13"
  }
 },
 "nbformat": 4,
 "nbformat_minor": 5
}
